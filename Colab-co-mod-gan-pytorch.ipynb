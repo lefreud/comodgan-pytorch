{
  "nbformat": 4,
  "nbformat_minor": 0,
  "metadata": {
    "colab": {
      "name": "Colab-co-mod-gan-pytorch.ipynb",
      "private_outputs": true,
      "provenance": [],
      "collapsed_sections": []
    },
    "kernelspec": {
      "name": "python3",
      "display_name": "Python 3"
    },
    "language_info": {
      "name": "python"
    },
    "accelerator": "GPU"
  },
  "cells": [
    {
      "cell_type": "markdown",
      "metadata": {
        "id": "S_wSsWY21EoS"
      },
      "source": [
        "# Colab-co-mod-gan-pytorch\n",
        "Original tensorflow version: [zsyzzsoft/co-mod-gan](https://github.com/zsyzzsoft/co-mod-gan)\n",
        "\n",
        "Pytorch version: [zengxianyu/co-mod-gan-pytorch](https://github.com/zengxianyu/co-mod-gan-pytorch)\n",
        "\n",
        "My fork: [styler00dollar/Colab-co-mod-gan-pytorch](https://github.com/styler00dollar/Colab-co-mod-gan-pytorch)"
      ]
    },
    {
      "cell_type": "code",
      "metadata": {
        "id": "OpzXFc_OugU5"
      },
      "source": [
        "!nvidia-smi"
      ],
      "execution_count": null,
      "outputs": []
    },
    {
      "cell_type": "code",
      "metadata": {
        "id": "3tiLerTzuiLY"
      },
      "source": [
        "!git clone https://github.com/zengxianyu/co-mod-gan-pytorch"
      ],
      "execution_count": null,
      "outputs": []
    },
    {
      "cell_type": "code",
      "metadata": {
        "id": "mjOf0oEnvjzn",
        "cellView": "form"
      },
      "source": [
        "#@title download models\n",
        "%cd /content/co-mod-gan-pytorch/\n",
        "!sh download/ffhq512.sh\n",
        "!sh download/ffhq1024.sh\n",
        "!sh download/places512.sh"
      ],
      "execution_count": null,
      "outputs": []
    },
    {
      "cell_type": "markdown",
      "metadata": {
        "id": "NH3tnEguw9AG"
      },
      "source": [
        "Models: \n",
        "```\n",
        "co-mod-gan-places2-050000.pth\n",
        "co-mod-gan-ffhq-9-025000.pth # 512px\n",
        "co-mod-gan-ffhq-10-025000.pth # 1024px\n",
        "```"
      ]
    },
    {
      "cell_type": "code",
      "metadata": {
        "cellView": "form",
        "id": "w66RiBJ6xwOB"
      },
      "source": [
        "#@title install ninja\n",
        "%cd /content\n",
        "!wget https://github.com/ninja-build/ninja/releases/download/v1.8.2/ninja-linux.zip\n",
        "!sudo unzip ninja-linux.zip -d /usr/local/bin/\n",
        "!sudo update-alternatives --install /usr/bin/ninja ninja /usr/local/bin/ninja 1 --force"
      ],
      "execution_count": null,
      "outputs": []
    },
    {
      "cell_type": "code",
      "metadata": {
        "id": "w94fl7d1yn_9"
      },
      "source": [
        "#@title resize/invert mask color if needed\n",
        "import cv2\n",
        "image = cv2.imread(\"/content/input.png\")\n",
        "image = cv2.resize(image, (512,512), cv2.INTER_NEAREST)\n",
        "cv2.imwrite(\"/content/input.png\", image)\n",
        "\n",
        "image = cv2.imread(\"/content/mask.png\", cv2.IMREAD_GRAYSCALE)\n",
        "image = cv2.resize(image, (512,512), cv2.INTER_NEAREST)\n",
        "# invert mask if needed\n",
        "# white = original area\n",
        "# black = inpainting\n",
        "image = 255-image\n",
        "cv2.imwrite(\"/content/mask.png\", image)"
      ],
      "execution_count": null,
      "outputs": []
    },
    {
      "cell_type": "code",
      "metadata": {
        "id": "0dLCcsCSvmkA"
      },
      "source": [
        "%cd /content/co-mod-gan-pytorch\n",
        "!python test.py -i /content/input.png -m /content/mask.png -o /content/output.png -c checkpoints/co-mod-gan-places2-050000.pth"
      ],
      "execution_count": null,
      "outputs": []
    }
  ]
}